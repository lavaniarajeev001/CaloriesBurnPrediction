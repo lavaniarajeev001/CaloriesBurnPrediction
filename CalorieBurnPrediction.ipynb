{
 "cells": [
  {
   "cell_type": "code",
   "execution_count": 1,
   "id": "bcedca65-73da-4eba-9116-133978f2f17c",
   "metadata": {},
   "outputs": [],
   "source": [
    "import pandas as pd\n",
    "import numpy as np\n",
    "import seaborn as sns\n",
    "import matplotlib.pyplot as plt\n",
    "from sklearn.ensemble import RandomForestRegressor\n",
    "from sklearn.feature_selection import RFE\n",
    "from sklearn.preprocessing import StandardScaler\n",
    "from sklearn.model_selection import train_test_split\n",
    "from sklearn.metrics import mean_squared_error\n",
    "import pickle"
   ]
  },
  {
   "cell_type": "code",
   "execution_count": 2,
   "id": "78e9ba5c-5538-47b1-9071-bf3c3ef6444f",
   "metadata": {},
   "outputs": [],
   "source": [
    "def data():\n",
    "    df = pd.read_csv(\"gym_members_exercise_tracking.csv\")\n",
    "    df[\"Gender\"] = df[\"Gender\"].map({\"Male\": 1, \"Female\": 2})\n",
    "    df[\"Workout_Type\"] = df[\"Workout_Type\"].map({\"Strength\": 1, \"Cardio\": 2, \"Yoga\": 3, \"HIIT\": 4})\n",
    "\n",
    "    def outlier(df, column):\n",
    "        Q1 = df[column].quantile(0.25)\n",
    "        Q3 = df[column].quantile(0.75)\n",
    "        IQR = Q3 - Q1\n",
    "        df_cleaned = df[(df[column] > Q1 - 1.5 * IQR) & (df[column] < Q3 + 1.5 * IQR)]\n",
    "        return df_cleaned\n",
    "\n",
    "    df = outlier(df, \"Weight (kg)\")\n",
    "    df = outlier(df, \"Calories_Burned\")\n",
    "    df = outlier(df, \"BMI\")\n",
    "\n",
    "    return df\n"
   ]
  },
  {
   "cell_type": "code",
   "execution_count": 3,
   "id": "ffbfb67d-aff1-467b-8274-65182f2b0082",
   "metadata": {},
   "outputs": [],
   "source": [
    "def create_model():\n",
    "    df = data()  # Assuming data() is a function that returns the cleaned DataFrame\n",
    "    \n",
    "    # Define features and target\n",
    "    X = df[['Age', 'Gender', 'Avg_BPM', 'Session_Duration (hours)', 'Fat_Percentage']]\n",
    "    y = df[\"Calories_Burned\"]\n",
    "    \n",
    "    # Separate scalers for features and target\n",
    "    scaler_X = StandardScaler()\n",
    "    scaler_y = StandardScaler()\n",
    "    \n",
    "    # Scale the features\n",
    "    X_scaled = scaler_X.fit_transform(X)\n",
    "    \n",
    "    # Reshape and scale the target (y)\n",
    "    y_np = np.array(y).reshape(-1, 1)  # Convert target to 2D array\n",
    "    y_scaled = scaler_y.fit_transform(y_np)\n",
    "    \n",
    "    # Split the data into training and test sets\n",
    "    X_train, X_test, y_train, y_test = train_test_split(X_scaled, y_scaled, test_size=0.20, random_state=42)\n",
    "    \n",
    "    # Initialize and train the RandomForest model\n",
    "    model = RandomForestRegressor()\n",
    "    model.fit(X_train, y_train.ravel())  # Train the model\n",
    "    \n",
    "    # Make predictions on the test set\n",
    "    y_pred = model.predict(X_test)\n",
    "    \n",
    "    # Inverse transform predictions and true values to get back to original scale\n",
    "    y_pred_original = scaler_y.inverse_transform(y_pred.reshape(-1, 1))\n",
    "    y_test_original = scaler_y.inverse_transform(y_test)\n",
    "    \n",
    "    # Calculate Mean Squared Error (MSE) for performance evaluation\n",
    "    mse = mean_squared_error(y_test_original, y_pred_original)\n",
    "    print(f\"Mean Squared Error: {mse:.2f}\")\n",
    "    \n",
    "    # Return the scalers and the trained model\n",
    "    return scaler_X, scaler_y, model\n",
    "\n"
   ]
  },
  {
   "cell_type": "code",
   "execution_count": 5,
   "id": "47d17f0f-0fc3-4637-b07f-02d8f801118c",
   "metadata": {},
   "outputs": [
    {
     "name": "stdout",
     "output_type": "stream",
     "text": [
      "Mean Squared Error: 1000.23\n"
     ]
    }
   ],
   "source": [
    "def main():\n",
    "    df=data()\n",
    "    scaler_X, scaler_y, model=create_model()\n",
    "    # Save feature scaler\n",
    "    with open(\"scaler_X.pkl\", \"wb\") as f_X:\n",
    "        pickle.dump(scaler_X, f_X)\n",
    "    \n",
    "    # Save target scaler\n",
    "    with open(\"scaler_y.pkl\", \"wb\") as f_y:\n",
    "        pickle.dump(scaler_y, f_y)\n",
    "    \n",
    "    # Save the trained model\n",
    "    with open(\"model.pkl\", \"wb\") as f_model:\n",
    "        pickle.dump(model, f_model)\n",
    "if __name__==\"__main__\":\n",
    "    main()\n"
   ]
  },
  {
   "cell_type": "code",
   "execution_count": null,
   "id": "bdca3d3b-a89f-46b1-af8a-ef6c1a297949",
   "metadata": {},
   "outputs": [],
   "source": []
  }
 ],
 "metadata": {
  "kernelspec": {
   "display_name": "Python 3 (ipykernel)",
   "language": "python",
   "name": "python3"
  },
  "language_info": {
   "codemirror_mode": {
    "name": "ipython",
    "version": 3
   },
   "file_extension": ".py",
   "mimetype": "text/x-python",
   "name": "python",
   "nbconvert_exporter": "python",
   "pygments_lexer": "ipython3",
   "version": "3.10.14"
  }
 },
 "nbformat": 4,
 "nbformat_minor": 5
}
