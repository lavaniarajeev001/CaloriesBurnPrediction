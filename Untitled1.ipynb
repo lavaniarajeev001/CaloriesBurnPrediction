{
 "cells": [
  {
   "cell_type": "code",
   "execution_count": 1,
   "id": "82f1fbc1-8264-4f56-9f24-59b0e2242c49",
   "metadata": {},
   "outputs": [],
   "source": [
    "import pandas as pd\n",
    "import numpy as np\n",
    "import seaborn as sns\n",
    "import matplotlib.pyplot as plt\n",
    "from sklearn.ensemble import RandomForestRegressor\n",
    "from sklearn.feature_selection import RFE\n",
    "from sklearn.preprocessing import StandardScaler\n",
    "from sklearn.model_selection import train_test_split\n",
    "from sklearn.metrics import mean_squared_error"
   ]
  },
  {
   "cell_type": "code",
   "execution_count": 2,
   "id": "90a27c00-ad50-41ee-ae57-4ae243f0bcbd",
   "metadata": {},
   "outputs": [
    {
     "name": "stdout",
     "output_type": "stream",
     "text": [
      "Mean Squared Error: 1093.98\n",
      "Predicted Calories Burned: 1319.01\n"
     ]
    },
    {
     "name": "stderr",
     "output_type": "stream",
     "text": [
      "C:\\Rajeev\\MachineLearning\\Project\\venv\\lib\\site-packages\\sklearn\\base.py:493: UserWarning: X does not have valid feature names, but StandardScaler was fitted with feature names\n",
      "  warnings.warn(\n"
     ]
    }
   ],
   "source": [
    "from sklearn.ensemble import RandomForestRegressor\n",
    "from sklearn.feature_selection import RFE\n",
    "from sklearn.preprocessing import StandardScaler\n",
    "from sklearn.model_selection import train_test_split\n",
    "from sklearn.metrics import mean_squared_error\n",
    "import pandas as pd\n",
    "import numpy as np\n",
    "\n",
    "# Load and preprocess the data\n",
    "df = pd.read_csv(\"gym_members_exercise_tracking.csv\")\n",
    "df[\"Gender\"] = df[\"Gender\"].map({\"Male\": 1, \"Female\": 2})\n",
    "df[\"Workout_Type\"] = df[\"Workout_Type\"].map({\"Strength\": 1, \"Cardio\": 2, \"Yoga\": 3, \"HIIT\": 4})\n",
    "\n",
    "# Function to remove outliers\n",
    "def outlier(df, column):\n",
    "    Q1 = df[column].quantile(0.25)\n",
    "    Q3 = df[column].quantile(0.75)\n",
    "    IQR = Q3 - Q1\n",
    "    df_cleaned = df[(df[column] > Q1 - 1.5 * IQR) & (df[column] < Q3 + 1.5 * IQR)]\n",
    "    return df_cleaned\n",
    "\n",
    "# Apply outlier function\n",
    "df = outlier(df, \"Weight (kg)\")\n",
    "df = outlier(df, \"Calories_Burned\")\n",
    "df = outlier(df, \"BMI\")\n",
    "\n",
    "# Define features and target\n",
    "X = df[['Age', 'Gender', 'Avg_BPM', 'Session_Duration (hours)', 'Fat_Percentage']]\n",
    "y = df[\"Calories_Burned\"]\n",
    "\n",
    "# Separate scalers for features and target\n",
    "scaler_X = StandardScaler()\n",
    "scaler_y = StandardScaler()\n",
    "\n",
    "# Scale the features\n",
    "X_scaled = scaler_X.fit_transform(X)\n",
    "\n",
    "# Reshape target (y) and scale it\n",
    "y_np = np.array(y).reshape(-1, 1)\n",
    "y_scaled = scaler_y.fit_transform(y_np)\n",
    "\n",
    "# Splitting the data\n",
    "X_train, X_test, y_train, y_test = train_test_split(X_scaled, y_scaled, test_size=0.20, random_state=42)\n",
    "\n",
    "# Training the model\n",
    "model = RandomForestRegressor()\n",
    "model.fit(X_train, y_train.ravel())\n",
    "\n",
    "# Making predictions\n",
    "y_pred = model.predict(X_test)\n",
    "\n",
    "# Inversely transform the scaled target back to the original scale\n",
    "y_pred_original = scaler_y.inverse_transform(y_pred.reshape(-1, 1))\n",
    "y_test_original = scaler_y.inverse_transform(y_test)\n",
    "\n",
    "# Calculate the MSE with original values for better interpretability\n",
    "mse = mean_squared_error(y_test_original, y_pred_original)\n",
    "print(f\"Mean Squared Error: {mse:.2f}\")\n",
    "\n",
    "# Predicting for new data\n",
    "data = [56, 1, 157, 1.69, 12.6]\n",
    "data_np = np.array(data).reshape(1, -1)\n",
    "data_scaled = scaler_X.transform(data_np)\n",
    "\n",
    "# Making prediction\n",
    "data_predict = model.predict(data_scaled)\n",
    "\n",
    "# Reshape and inverse transform the prediction\n",
    "data_predict_reshaped = np.array(data_predict).reshape(1, -1)\n",
    "data_predict_original = scaler_y.inverse_transform(data_predict_reshaped)\n",
    "\n",
    "print(f\"Predicted Calories Burned: {data_predict_original[0][0]:.2f}\")\n"
   ]
  },
  {
   "cell_type": "code",
   "execution_count": null,
   "id": "983e8394-52bf-43e9-a073-28b02193c397",
   "metadata": {},
   "outputs": [],
   "source": []
  }
 ],
 "metadata": {
  "kernelspec": {
   "display_name": "Python 3 (ipykernel)",
   "language": "python",
   "name": "python3"
  },
  "language_info": {
   "codemirror_mode": {
    "name": "ipython",
    "version": 3
   },
   "file_extension": ".py",
   "mimetype": "text/x-python",
   "name": "python",
   "nbconvert_exporter": "python",
   "pygments_lexer": "ipython3",
   "version": "3.10.14"
  }
 },
 "nbformat": 4,
 "nbformat_minor": 5
}
